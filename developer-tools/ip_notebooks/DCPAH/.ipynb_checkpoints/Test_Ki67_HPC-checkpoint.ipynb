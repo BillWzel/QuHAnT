{
 "cells": [
  {
   "cell_type": "code",
   "execution_count": 1,
   "metadata": {
    "collapsed": true
   },
   "outputs": [],
   "source": [
    "%matplotlib inline"
   ]
  },
  {
   "cell_type": "code",
   "execution_count": 2,
   "metadata": {
    "collapsed": true
   },
   "outputs": [],
   "source": [
    "import cv2\n",
    "import numpy as np\n",
    "import os"
   ]
  },
  {
   "cell_type": "code",
   "execution_count": null,
   "metadata": {
    "collapsed": true
   },
   "outputs": [],
   "source": [
    "# Test 1 - Min Area + CF ------- Higher Threshold ----------------\n",
    "file_path = os.listdir(\"../Images/\")\n",
    "red_test = open('Red_Test.txt', 'w')\n",
    "red_test.write(\"Image\\t# Of Cells\\tTotal Cell Area\\tTissue Area\\tNormalized(Cell/Tissue)\\n\")\n",
    "for infile in file_path:\n",
    "    if \"AgNOR\" in infile:\n",
    "        img = cv2.imread('../Images/'+infile)\n",
    "        b,g,r = cv2.split(img)\n",
    "        rgb_img = cv2.merge([r,g,b])\n",
    "        rg = cv2.merge([r,g,b])\n",
    "        rg = rg.astype(np.float32)\n",
    "\n",
    "        np.seterr(all = 'ignore')\n",
    "        mask = np.empty_like(rg)\n",
    "        arr_max = rg.max(-1)\n",
    "        delta = rg.ptp(-1)\n",
    "        s = delta/arr_max\n",
    "        s[delta==0]=0\n",
    "        idx = (rg[:,:,0] == arr_max)\n",
    "        mask[idx,0] = np.true_divide((rg[idx,1] - rg[idx,2]), delta[idx])\n",
    "        idx = (rg[:,:,1] == arr_max)\n",
    "        mask[idx,0] = 2. + np.true_divide((rg[idx,2] - rg[idx,0]), delta[idx])\n",
    "        idx = (rg[:,:,2] == arr_max)\n",
    "        mask[idx,0] = 4. + np.true_divide((rg[idx,0] - rg[idx,1]), delta[idx])\n",
    "        mask[:,:,0] = ((mask[:,:,0]/6.0)%1.0)*255.0\n",
    "        mask[:,:,0] = np.nan_to_num(mask[:,:,0])\n",
    "        mask[:,:,1] = s * 255.0\n",
    "        mask[:,:,2] = arr_max\n",
    "        mask = mask.astype(np.uint8)\n",
    "\n",
    "        nuclei_points = cv2.inRange(mask, (200, 150, 0), (255,255,195))\n",
    "        contours, heirarchy = cv2.findContours(nuclei_points, cv2.RETR_LIST, cv2.CHAIN_APPROX_NONE)\n",
    "        cells = []\n",
    "        cell_area = 0\n",
    "        t1 = np.zeros(nuclei_points.shape, np.uint8)\n",
    "        for cnt in contours:\n",
    "            area = cv2.contourArea(cnt)\n",
    "            true_area = cv2.contourArea(cnt, True)\n",
    "            perimeter = cv2.arcLength(cnt, True)\n",
    "            if (perimeter != 0.0):\n",
    "                circularity_factor = (4*np.pi*area)/(perimeter*perimeter)\n",
    "                if area >= 500 and area < 10000 and circularity_factor >= 0.1:\n",
    "                    cells.append(cnt)\n",
    "                    cv2.drawContours(t1, [cnt],0,255,-1)\n",
    "                    cell_area += area\n",
    "\n",
    "        tissue = cv2.inRange(mask, (0,30,0), (255,255,255))\n",
    "        tissue_cnt, h = cv2.findContours(tissue, cv2.RETR_LIST, cv2.CHAIN_APPROX_NONE)\n",
    "        tissue_area = 0\n",
    "        for c in tissue_cnt:\n",
    "            tissue_area += cv2.contourArea(c)\n",
    "        red_test.write(infile+'\\t'+str(len(cells))+'\\t'+str(cell_area)+'\\t'+str(tissue_area)+'\\t'+str(cell_area/tissue_area)+'\\n')\n",
    "red_test.close()"
   ]
  },
  {
   "cell_type": "code",
   "execution_count": null,
   "metadata": {
    "collapsed": true
   },
   "outputs": [],
   "source": []
  }
 ],
 "metadata": {
  "kernelspec": {
   "display_name": "Python 2",
   "language": "python",
   "name": "python2"
  },
  "language_info": {
   "codemirror_mode": {
    "name": "ipython",
    "version": 2
   },
   "file_extension": ".py",
   "mimetype": "text/x-python",
   "name": "python",
   "nbconvert_exporter": "python",
   "pygments_lexer": "ipython2",
   "version": "2.7.13"
  }
 },
 "nbformat": 4,
 "nbformat_minor": 0
}
