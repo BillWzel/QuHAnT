{
 "cells": [
  {
   "cell_type": "code",
   "execution_count": 1,
   "metadata": {
    "collapsed": true
   },
   "outputs": [],
   "source": [
    "%matplotlib inline"
   ]
  },
  {
   "cell_type": "code",
   "execution_count": 2,
   "metadata": {
    "collapsed": true
   },
   "outputs": [],
   "source": [
    "import cv2\n",
    "import numpy as np\n",
    "import os\n",
    "import matplotlib.pyplot as plt\n",
    "import pylab\n",
    "\n",
    "pylab.rcParams['figure.figsize'] = (10.0, 8.0)"
   ]
  },
  {
   "cell_type": "code",
   "execution_count": 3,
   "metadata": {
    "collapsed": true
   },
   "outputs": [],
   "source": [
    "def flatten(img):\n",
    "    b,g,r = cv2.split(img)\n",
    "    rg = cv2.merge([r,g,b])\n",
    "    rg = rg.astype(np.float32)\n",
    "\n",
    "    np.seterr(all = 'ignore')\n",
    "    mask = np.empty_like(rg)\n",
    "    arr_max = rg.max(-1)\n",
    "    delta = rg.ptp(-1)\n",
    "    s = delta/arr_max\n",
    "    s[delta==0]=0\n",
    "    idx = (rg[:,:,0] == arr_max)\n",
    "    mask[idx,0] = np.true_divide((rg[idx,1] - rg[idx,2]), delta[idx])\n",
    "    idx = (rg[:,:,1] == arr_max)\n",
    "    mask[idx,0] = 2. + np.true_divide((rg[idx,2] - rg[idx,0]), delta[idx])\n",
    "    idx = (rg[:,:,2] == arr_max)\n",
    "    mask[idx,0] = 4. + np.true_divide((rg[idx,0] - rg[idx,1]), delta[idx])\n",
    "    mask[:,:,0] = ((mask[:,:,0]/6.0)%1.0)*255.0\n",
    "    mask[:,:,0] = np.nan_to_num(mask[:,:,0])\n",
    "    mask[:,:,1] = s * 255.0\n",
    "    mask[:,:,2] = arr_max\n",
    "    mask = mask.astype(np.uint8)\n",
    "\n",
    "    nuclei_points = cv2.inRange(mask, (200, 150, 0), (255,255,195))\n",
    "    contours, heirarchy = cv2.findContours(nuclei_points, cv2.RETR_LIST, cv2.CHAIN_APPROX_NONE)\n",
    "\n",
    "    t1 = np.zeros(nuclei_points.shape, np.uint8)\n",
    "    for cnt in contours:\n",
    "        area = cv2.contourArea(cnt)\n",
    "        true_area = cv2.contourArea(cnt, True)\n",
    "        perimeter = cv2.arcLength(cnt, True)\n",
    "        if (perimeter != 0.0):\n",
    "            circularity_factor = (4*np.pi*area)/(perimeter*perimeter)\n",
    "            if area >= 500 and area < 10000 and circularity_factor >= 0.1:\n",
    "                cv2.drawContours(t1, [cnt],0,255,-1)\n",
    "                \n",
    "    return t1"
   ]
  },
  {
   "cell_type": "code",
   "execution_count": 4,
   "metadata": {
    "collapsed": true
   },
   "outputs": [],
   "source": [
    "def binarize(img):\n",
    "    # Convert to RGB\n",
    "    b,g,r = cv2.split(img)\n",
    "    rg = cv2.merge([r,g,b])\n",
    "    rg = rg.astype(np.float32)\n",
    "\n",
    "    # Convert to HSV\n",
    "    np.seterr(all = 'ignore')\n",
    "    mask = np.empty_like(rg)\n",
    "    arr_max = rg.max(-1)\n",
    "    delta = rg.ptp(-1)\n",
    "    s = delta/arr_max\n",
    "    s[delta==0]=0\n",
    "    idx = (rg[:,:,0] == arr_max)\n",
    "    mask[idx,0] = np.true_divide((rg[idx,1] - rg[idx,2]), delta[idx])\n",
    "    idx = (rg[:,:,1] == arr_max)\n",
    "    mask[idx,0] = 2. + np.true_divide((rg[idx,2] - rg[idx,0]), delta[idx])\n",
    "    idx = (rg[:,:,2] == arr_max)\n",
    "    mask[idx,0] = 4. + np.true_divide((rg[idx,0] - rg[idx,1]), delta[idx])\n",
    "    mask[:,:,0] = ((mask[:,:,0]/6.0)%1.0)*255.0\n",
    "    mask[:,:,0] = np.nan_to_num(mask[:,:,0])\n",
    "    mask[:,:,1] = s * 255.0\n",
    "    mask[:,:,2] = arr_max\n",
    "    mask = mask.astype(np.uint8)\n",
    "\n",
    "    # Threshold the HSV image\n",
    "    binary_img = cv2.inRange(mask, (0, 0, 0), (255,255,100))\n",
    "    # Return the binary image\n",
    "    return binary_img"
   ]
  },
  {
   "cell_type": "code",
   "execution_count": 5,
   "metadata": {
    "collapsed": true
   },
   "outputs": [],
   "source": [
    "def compare_obj(a, b):    \n",
    "    \n",
    "    a_cnt, h = cv2.findContours(a, cv2.RETR_EXTERNAL, cv2.CHAIN_APPROX_NONE)\n",
    "    b_cnt, h = cv2.findContours(b, cv2.RETR_EXTERNAL, cv2.CHAIN_APPROX_NONE)\n",
    "    \n",
    "    contour_dict = {}\n",
    "    for i in range(len(a_cnt)):\n",
    "        for j in range(len(a_cnt[i])):\n",
    "            x = a_cnt[i][j][0][0]\n",
    "            y = a_cnt[i][j][0][1]\n",
    "            points = (x,y)\n",
    "            moment = cv2.moments(a_cnt[i])\n",
    "            if moment['m00'] != 0.0:\n",
    "                cx = moment['m10']/moment['m00']\n",
    "                cy = moment['m01']/moment['m00']\n",
    "                centroid = (cx,cy)\n",
    "                if centroid not in contour_dict:\n",
    "                    contour_dict[centroid] = []\n",
    "                for m in range(len(b_cnt)):\n",
    "                    num  = cv2.pointPolygonTest(b_cnt[m], points, False )\n",
    "                    if num == 0 or num == 1:\n",
    "                        moment = cv2.moments(b_cnt[m])\n",
    "                        if moment['m00'] != 0.0:\n",
    "                            bx = moment['m10']/moment['m00']\n",
    "                            by = moment['m01']/moment['m00']\n",
    "                            b_centroid = (bx,by)\n",
    "                            there = 0\n",
    "                            for v in contour_dict[centroid]:\n",
    "                                if b_centroid == v:\n",
    "                                    there = 1\n",
    "                            if there == 0:\n",
    "                                contour_dict[centroid].append(b_centroid)\n",
    "                        break\n",
    "                    \n",
    "    return contour_dict\n"
   ]
  },
  {
   "cell_type": "code",
   "execution_count": null,
   "metadata": {
    "collapsed": false,
    "scrolled": false
   },
   "outputs": [],
   "source": [
    "def main():\n",
    "    # Rules:\n",
    "    #    Module name will dictate the file pattern to search for\n",
    "    #    Manual images should either be ending with ' - Copy.tif' or start with 'Marked_' \n",
    "    #    Manual/Automated images can be either binary or rgb with black marks\n",
    "    #    Make sure manual images have matching names as automated minus the necessary identifiers \n",
    "    #    Update path where commented (look for variable file_dir)\n",
    "    \n",
    "    \n",
    "    automated_input = str(input(\"Enter Module Color: \")) # Yellow or Red or RN\n",
    "    test_input = str(input(\"Enter Which Version to Run Against: \")) # ex. 1\n",
    "    #automated_input = input(\"Enter Image Name: \")  # Should be already binary\n",
    "    #manual_input = input(\"Enter the manually marked mask: \") # Should be rgb with black marks\n",
    "    \n",
    "    \n",
    "    # Verify path for your images to match file_dir directory\n",
    "    if automated_input == 'RN':\n",
    "        file_dir = '.'\n",
    "        module = 'MCT_AgNOR'\n",
    "    elif automated_input == 'Yellow':\n",
    "        file_dir = 'Yellow_Test'+test_input+'_Mask/'\n",
    "        module = 'Ki67'\n",
    "    else:\n",
    "        file_dir = 'Red_Test'+test_input+'_Mask/'\n",
    "        module = 'AgNOR'\n",
    "        \n",
    "    file_path = os.listdir(file_dir)\n",
    "    for infile in file_path:\n",
    "        if automated_input == 'RN':\n",
    "            check = infile[:-4]+' - Copy.tif'\n",
    "        else:\n",
    "            check = 'Marked_'+infile\n",
    "            check2 = infile[:-4] + ' - Copy.tif'\n",
    "        if (infile[-4:] == \".tif\" and module in infile and os.path.isfile(check) or os.path.isfile(check2)):\n",
    "            # Read in images\n",
    "            if automated_input == 'RN':\n",
    "                automated = cv2.imread(infile)\n",
    "            else:\n",
    "                automated = cv2.imread(file_dir + infile,0)\n",
    "                           \n",
    "            if os.path.isfile(check):\n",
    "                manual = cv2.imread(check)\n",
    "            else:\n",
    "                manual = cv2.imread(check2)\n",
    "            \n",
    "            if len(automated.shape) == 3:\n",
    "                automated = flatten(automated)\n",
    "                cv2.imwrite(infile[:-4]+'_Mask.tif', automated)\n",
    "            # Binarize manual image\n",
    "            if len(manual.shape) == 3:\n",
    "                manual = binarize(manual)\n",
    "    \n",
    "            # Compare Functions\n",
    "            first_run = compare_obj(automated, manual)\n",
    "            second_run = compare_obj(manual, automated)\n",
    "    \n",
    "            # Get Information needed for writing to file\n",
    "            manual_overlap, auto_overlap, manual_only, auto_only = 0,0,0,0\n",
    "            #print(len(first_run))\n",
    "            for k,v in first_run.iteritems():\n",
    "                if len(v) == 0:\n",
    "                    auto_only += 1\n",
    "                else:\n",
    "                    auto_overlap += len(v)\n",
    "            for k,v in second_run.iteritems():\n",
    "                if len(v) == 0:\n",
    "                    manual_only += 1\n",
    "                else:\n",
    "                    manual_overlap += len(v)\n",
    "\n",
    "            # Write information into files\n",
    "            full = open('DCPAH_Comparison_'+infile[:-4]+'_'+automated_input+'_'+test_input+'_FULL.txt','w')\n",
    "            summ = open('DCPAH_Comparison_'+infile[:-4]+'_'+automated_input+'_'+test_input+'_SUMMARY.txt','w')\n",
    "\n",
    "            full.write(infile)\n",
    "            summ.write(infile)\n",
    "            full.write('\\nMain Centroid\\tCorresponding Centroids')\n",
    "            for k,v in first_run.iteritems():\n",
    "                full.write(\"\\nMain Centroid:\" +str(k))\n",
    "                full.write('\\n'+str(v))\n",
    "            summ.write('\\n# of Manual Cells\\t'+str(len(second_run)))\n",
    "            summ.write('\\n# of Automatic Cells\\t'+str(len(first_run)))\n",
    "            summ.write('\\n# of Overlapping Manual Cells\\t'+ str(manual_overlap))\n",
    "            summ.write('\\n# of Overlapping Automatic Cells\\t'+str(auto_overlap))\n",
    "            summ.write('\\n# of Manual Cells Only\\t' + str(manual_only))\n",
    "            summ.write('\\n# of Automatic Cells only\\t'+str(auto_only)+'\\n')\n",
    "\n",
    "            full.close()\n",
    "            summ.close()\n",
    "main()"
   ]
  },
  {
   "cell_type": "code",
   "execution_count": 29,
   "metadata": {
    "collapsed": false
   },
   "outputs": [
    {
     "name": "stdout",
     "output_type": "stream",
     "text": [
      "6\n"
     ]
    }
   ],
   "source": [
    "print(6)"
   ]
  },
  {
   "cell_type": "code",
   "execution_count": null,
   "metadata": {
    "collapsed": true
   },
   "outputs": [],
   "source": []
  }
 ],
 "metadata": {
  "kernelspec": {
   "display_name": "Python 2",
   "language": "python",
   "name": "python2"
  },
  "language_info": {
   "codemirror_mode": {
    "name": "ipython",
    "version": 2
   },
   "file_extension": ".py",
   "mimetype": "text/x-python",
   "name": "python",
   "nbconvert_exporter": "python",
   "pygments_lexer": "ipython2",
   "version": "2.7.13"
  }
 },
 "nbformat": 4,
 "nbformat_minor": 0
}
