{
 "cells": [
  {
   "cell_type": "code",
   "execution_count": 1,
   "metadata": {
    "collapsed": true
   },
   "outputs": [],
   "source": [
    "% matplotlib inline"
   ]
  },
  {
   "cell_type": "code",
   "execution_count": 2,
   "metadata": {
    "collapsed": true
   },
   "outputs": [],
   "source": [
    "import cv2\n",
    "import numpy as np\n",
    "import matplotlib.pyplot as plt\n",
    "import pylab\n",
    "import os\n",
    "\n",
    "pylab.rcParams['figure.figsize'] = (10.0, 8.0)"
   ]
  },
  {
   "cell_type": "code",
   "execution_count": 3,
   "metadata": {
    "collapsed": false
   },
   "outputs": [
    {
     "name": "stdout",
     "output_type": "stream",
     "text": [
      "mp-16-2852_MCT_Ki67_2279.tif -- Kicked out\n",
      "mp-16-2852_MCT_Ki67_2279.tif -- Don't count as cell\n",
      "mp-16-2852_MCT_Ki67_2519.tif -- Kicked out\n",
      "mp-16-2852_MCT_Ki67_2519.tif -- Kicked out\n",
      "mp-16-2906_MCT_Ki67_693.tif -- Kicked out\n",
      "mp-16-2906_MCT_Ki67_693.tif -- Kicked out\n",
      "mp-16-2906_MCT_Ki67_740.tif -- Don't count as cell\n",
      "mp-16-2906_MCT_Ki67_740.tif -- Kicked out\n",
      "mp-16-5671_MCT_Ki67_1284.tif -- Kicked out\n",
      "mp-16-5671_MCT_Ki67_1284.tif -- Don't count as cell\n",
      "mp-16-5671_MCT_Ki67_1729.tif -- Kicked out\n",
      "mp-16-5671_MCT_Ki67_2600.tif -- Don't count as cell\n"
     ]
    }
   ],
   "source": [
    "# ------------ Looks for larger and darker objects in images -----------------------------------\n",
    "file_path = os.listdir(\"Images/\")\n",
    "for infile in file_path:\n",
    "    if \"Ki67\" in infile:\n",
    "        img = cv2.imread('Images/'+infile)\n",
    "        b,g,r = cv2.split(img)\n",
    "        rg = cv2.merge([r,g,b])\n",
    "        rg = rg.astype(np.float32)\n",
    "\n",
    "        np.seterr(all = 'ignore')\n",
    "        mask = np.empty_like(rg)\n",
    "        arr_max = rg.max(-1)\n",
    "        delta = rg.ptp(-1)\n",
    "        s = delta/arr_max\n",
    "        s[delta==0]=0\n",
    "        idx = (rg[:,:,0] == arr_max)\n",
    "        mask[idx,0] = np.true_divide((rg[idx,1] - rg[idx,2]), delta[idx])\n",
    "        idx = (rg[:,:,1] == arr_max)\n",
    "        mask[idx,0] = 2. + np.true_divide((rg[idx,2] - rg[idx,0]), delta[idx])\n",
    "        idx = (rg[:,:,2] == arr_max)\n",
    "        mask[idx,0] = 4. + np.true_divide((rg[idx,0] - rg[idx,1]), delta[idx])\n",
    "        mask[:,:,0] = ((mask[:,:,0]/6.0)%1.0)*255.0\n",
    "        mask[:,:,0] = np.nan_to_num(mask[:,:,0])\n",
    "        mask[:,:,1] = s * 255.0\n",
    "        mask[:,:,2] = arr_max\n",
    "        mask = mask.astype(np.uint8)\n",
    "\n",
    "        points = cv2.inRange(mask, (0, 0, 0), (255,255,165))\n",
    "        c, _ = cv2.findContours(points, cv2.RETR_EXTERNAL, cv2.CHAIN_APPROX_NONE)\n",
    "        for cnt in c:\n",
    "            if cv2.contourArea(cnt) > 20000:\n",
    "                print(\"{} -- Kicked out\".format(infile))\n",
    "            elif cv2.contourArea(cnt) > 10000:\n",
    "                print(\"{} -- Don't count as cell\".format(infile))"
   ]
  },
  {
   "cell_type": "code",
   "execution_count": 4,
   "metadata": {
    "collapsed": false
   },
   "outputs": [
    {
     "name": "stdout",
     "output_type": "stream",
     "text": [
      "done\n"
     ]
    }
   ],
   "source": [
    "print('done')\n",
    "# HSV 0-255  0-255 0-165\n",
    "#  - segment the bad area using thresholds above. If contour area > 10000: bad image\n",
    "#  - if 5000 > contour area > 10000: don't include as general cell"
   ]
  },
  {
   "cell_type": "code",
   "execution_count": null,
   "metadata": {
    "collapsed": true
   },
   "outputs": [],
   "source": []
  }
 ],
 "metadata": {
  "kernelspec": {
   "display_name": "Python 2",
   "language": "python",
   "name": "python2"
  },
  "language_info": {
   "codemirror_mode": {
    "name": "ipython",
    "version": 2
   },
   "file_extension": ".py",
   "mimetype": "text/x-python",
   "name": "python",
   "nbconvert_exporter": "python",
   "pygments_lexer": "ipython2",
   "version": "2.7.13"
  }
 },
 "nbformat": 4,
 "nbformat_minor": 0
}
