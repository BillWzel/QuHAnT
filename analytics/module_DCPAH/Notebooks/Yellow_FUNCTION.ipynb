{
 "cells": [
  {
   "cell_type": "code",
   "execution_count": 26,
   "metadata": {
    "collapsed": true
   },
   "outputs": [],
   "source": [
    "%matplotlib inline"
   ]
  },
  {
   "cell_type": "code",
   "execution_count": 27,
   "metadata": {
    "collapsed": true
   },
   "outputs": [],
   "source": [
    "import cv2\n",
    "import matplotlib.pyplot as plt\n",
    "import numpy as np\n",
    "import os"
   ]
  },
  {
   "cell_type": "code",
   "execution_count": 28,
   "metadata": {
    "collapsed": true
   },
   "outputs": [],
   "source": [
    "def RGB_to_HSV(img):\n",
    "    b,g,r = cv2.split(img)\n",
    "    rg = cv2.merge([r,g,b])\n",
    "    rg = rg.astype(np.float32)\n",
    "\n",
    "    np.seterr(all = 'ignore')\n",
    "    mask = np.empty_like(rg)\n",
    "    arr_max = rg.max(-1)\n",
    "    delta = rg.ptp(-1)\n",
    "    s = delta/arr_max\n",
    "    s[delta==0]=0\n",
    "    idx = (rg[:,:,0] == arr_max)\n",
    "    mask[idx,0] = np.true_divide((rg[idx,1] - rg[idx,2]), delta[idx])\n",
    "    idx = (rg[:,:,1] == arr_max)\n",
    "    mask[idx,0] = 2. + np.true_divide((rg[idx,2] - rg[idx,0]), delta[idx])\n",
    "    idx = (rg[:,:,2] == arr_max)\n",
    "    mask[idx,0] = 4. + np.true_divide((rg[idx,0] - rg[idx,1]), delta[idx])\n",
    "    mask[:,:,0] = ((mask[:,:,0]/6.0)%1.0)*255.0\n",
    "    mask[:,:,0] = np.nan_to_num(mask[:,:,0])\n",
    "    mask[:,:,1] = s * 255.0\n",
    "    mask[:,:,2] = arr_max\n",
    "    mask = mask.astype(np.uint8)\n",
    "    \n",
    "    return mask"
   ]
  },
  {
   "cell_type": "code",
   "execution_count": 29,
   "metadata": {
    "collapsed": true
   },
   "outputs": [],
   "source": [
    "def Quality_Control(img):\n",
    "    #convert to hsv\n",
    "    mask = RGB_to_HSV(img)\n",
    "    \n",
    "    points = cv2.inRange(mask, (0, 0, 0), (255,255,165))\n",
    "    c, _ = cv2.findContours(points, cv2.RETR_EXTERNAL, cv2.CHAIN_APPROX_NONE)\n",
    "    for cnt in c:\n",
    "        if cv2.contourArea(cnt) > 20000:\n",
    "            return 'YES'\n",
    "        elif cv2.contourArea(cnt) > 10000:\n",
    "            return 'MAYBE'\n",
    "        \n",
    "    return 'NO'"
   ]
  },
  {
   "cell_type": "code",
   "execution_count": 30,
   "metadata": {
    "collapsed": false
   },
   "outputs": [],
   "source": [
    "def Analyze(img):\n",
    "    dot_img = img.copy()\n",
    "    # sharpening the image\n",
    "    image = cv2.GaussianBlur(img, (0,0), 3)\n",
    "    img = cv2.addWeighted(img, 1.5, image, -0.5, 0)\n",
    "    # color thresholding\n",
    "    yuv = cv2.cvtColor(img, cv2.COLOR_BGR2YUV)\n",
    "    im_th = cv2.inRange(yuv, (0,0,0), (150,255,255))\n",
    "\n",
    "    cells = []\n",
    "    cell_area = 0\n",
    "    # ------- finding contours in the image --------\n",
    "    c, _ = cv2.findContours(im_th, cv2.RETR_LIST, cv2.CHAIN_APPROX_NONE)\n",
    "    for cnt in c:\n",
    "        area = cv2.contourArea(cnt)\n",
    "        true_area = cv2.contourArea(cnt, True)\n",
    "        x,y,w,h = cv2.boundingRect(cnt)\n",
    "        aspect_ratio = float(w)/h\n",
    "        # keeping only the \"valid\" cells\n",
    "        if area > 500 and aspect_ratio > 0.6 and area < 20000 and true_area < 0: \n",
    "            cv2.drawContours(img, [cnt], -1, (255,0,0), 3)\n",
    "            cell_area += area\n",
    "            cells.append(cnt)\n",
    "            \n",
    "    # --------- finding dots in the image -----------------------\n",
    "    mask = RGB_to_HSV(dot_img)\n",
    "\n",
    "    # thresholding the dots found\n",
    "    dot_points = cv2.inRange(mask, (0, 50, 0), (255,255,150))\n",
    "    c, heirarchy = cv2.findContours(dot_points, cv2.RETR_LIST, cv2.CHAIN_APPROX_NONE)\n",
    "\n",
    "    dots = []\n",
    "    # keep only the dot contours larger than 10 px\n",
    "    for cnt in c:\n",
    "        if cv2.contourArea(cnt) > 10:\n",
    "            dots.append(cnt)\n",
    "\n",
    "    cv2.drawContours(img, dots, -1, (0,0,255),2)\n",
    "    \n",
    "    \n",
    "    total = {}\n",
    "    track = -1\n",
    "    # -------- doing the point polygon test to check dot was within a cell ----------\n",
    "    for i in range(len(dots)):\n",
    "        for j in range(len(dots[i])):\n",
    "            for m in range(len(cells)):\n",
    "                x = dots[i][j][0][0]\n",
    "                y = dots[i][j][0][1]\n",
    "                points = (x,y)\n",
    "                num  = cv2.pointPolygonTest(cells[m], points, False )\n",
    "                if num == 0 or num == 1:\n",
    "                    moment = cv2.moments(cells[m])\n",
    "                    if moment['m00'] != 0.0:\n",
    "                        cx = moment['m10']/moment['m00']\n",
    "                        cy = moment['m01']/moment['m00']\n",
    "                        centroid = (cx,cy)\n",
    "                        if centroid in total and track != i:\n",
    "                            total[centroid] += 1\n",
    "                            track += 1\n",
    "                        elif centroid not in total and track != i:\n",
    "                            total[centroid] = 1\n",
    "                            track += 1\n",
    "\n",
    "    average = 0\n",
    "    for k,v in total.iteritems():\n",
    "        average += v\n",
    "\n",
    "    if len(total) != 0.0:\n",
    "        dot_average = average / len(total)\n",
    "    else:\n",
    "        dot_average = 0\n",
    "            \n",
    "    return (str(len(cells)), str(cell_area), str(dot_average))"
   ]
  },
  {
   "cell_type": "code",
   "execution_count": 31,
   "metadata": {
    "collapsed": false
   },
   "outputs": [],
   "source": [
    "def main():\n",
    "    file_path = os.listdir(\"Images/\")\n",
    "    yellow_test = open('Yellow_Test_Final.txt', 'w')\n",
    "    yellow_test.write(\"Image\\t# Of Cells\\tTotal Cell Area\\tDots per Cell\\tFlagged\\n\")\n",
    "    for infile in file_path:\n",
    "        if \"Ki67\" in infile:\n",
    "            img = cv2.imread('Images/'+infile)\n",
    "            flagged = Quality_Control(img)\n",
    "            output = Analyze(img)\n",
    "            yellow_test.write(infile+'\\t'+output[0]+'\\t'+output[1]+'\\t'+output[2]+'\\t'+flagged+'\\n')\n",
    "    yellow_test.close()\n",
    "main()"
   ]
  },
  {
   "cell_type": "code",
   "execution_count": null,
   "metadata": {
    "collapsed": true
   },
   "outputs": [],
   "source": []
  }
 ],
 "metadata": {
  "kernelspec": {
   "display_name": "Python 2",
   "language": "python",
   "name": "python2"
  },
  "language_info": {
   "codemirror_mode": {
    "name": "ipython",
    "version": 2
   },
   "file_extension": ".py",
   "mimetype": "text/x-python",
   "name": "python",
   "nbconvert_exporter": "python",
   "pygments_lexer": "ipython2",
   "version": "2.7.13"
  }
 },
 "nbformat": 4,
 "nbformat_minor": 0
}
