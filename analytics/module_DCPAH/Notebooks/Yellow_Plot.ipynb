{
 "cells": [
  {
   "cell_type": "code",
   "execution_count": 1,
   "metadata": {
    "collapsed": true
   },
   "outputs": [],
   "source": [
    "%matplotlib inline"
   ]
  },
  {
   "cell_type": "code",
   "execution_count": 2,
   "metadata": {
    "collapsed": true
   },
   "outputs": [],
   "source": [
    "import cv2\n",
    "import numpy as np\n",
    "import matplotlib.pyplot as plt\n",
    "import pylab\n",
    "import os\n",
    "\n",
    "pylab.rcParams['figure.figsize'] = (10.0, 8.0)"
   ]
  },
  {
   "cell_type": "code",
   "execution_count": 3,
   "metadata": {
    "collapsed": false
   },
   "outputs": [
    {
     "name": "stdout",
     "output_type": "stream",
     "text": [
      "[3, 3, 3, 2, 3, 2, 2]\n",
      "[5, 4, 6, 2, 2, 10, 4]\n"
     ]
    }
   ],
   "source": [
    "# ------- look at all tests ----------------------\n",
    "file_path = os.listdir('.')\n",
    "average2852 = []\n",
    "average2906 = []\n",
    "for infile in file_path:\n",
    "    if 'Yellow_Test' in infile and '.txt' == infile[-4:]:\n",
    "        text_file = open(infile, 'r')\n",
    "        dot_2852 = 0\n",
    "        dot_2906 = 0\n",
    "        len_dots_2852 = 0\n",
    "        len_dots_2906 = 0\n",
    "        for line in text_file:\n",
    "            words = line.split()\n",
    "            if '.tif' in words[0] and '2852' in words[0]:\n",
    "                if '2279' not in words[0] and '2519' not in words[0]: # Remove bad quality images (outliers)\n",
    "                    dot_2852 += float(words[3])\n",
    "                    len_dots_2852 += 1\n",
    "            elif '.tif' in words[0] and '2906' in words[0]:\n",
    "                if '740' not in words[0]: # Remove bad quality image (produces outlier)\n",
    "                    dot_2906 += float(words[3])\n",
    "                    len_dots_2906 += 1\n",
    "        if len_dots_2852 != 0.0:\n",
    "            average2852.append(int(dot_2852/len_dots_2852))\n",
    "        else:\n",
    "            average2852.append(0)\n",
    "        if len_dots_2906 != 0.0:\n",
    "            average2906.append(int(dot_2906/len_dots_2906))\n",
    "        else:\n",
    "            average2906.append(0)\n",
    "\n",
    "print(average2852)\n",
    "print(average2906)"
   ]
  },
  {
   "cell_type": "code",
   "execution_count": 4,
   "metadata": {
    "collapsed": false
   },
   "outputs": [
    {
     "data": {
      "text/plain": [
       "(array([ 0.,  0.,  3.,  4.,  0.]),\n",
       " array([0, 1, 2, 3, 4, 5]),\n",
       " <a list of 5 Patch objects>)"
      ]
     },
     "execution_count": 4,
     "metadata": {},
     "output_type": "execute_result"
    },
    {
     "data": {
      "image/png": "[encoded data removed]",
      "text/plain": [
       "<matplotlib.figure.Figure at 0x6ea5780>"
      ]
     },
     "metadata": {},
     "output_type": "display_data"
    }
   ],
   "source": [
    "plt.hist(average2852, bins=np.arange(0, max(average2852)+3, 1))"
   ]
  },
  {
   "cell_type": "code",
   "execution_count": 5,
   "metadata": {
    "collapsed": false
   },
   "outputs": [
    {
     "data": {
      "text/plain": [
       "(array([ 0.,  0.,  2.,  0.,  2.,  1.,  1.,  0.,  0.,  0.,  1.,  0.]),\n",
       " array([ 0,  1,  2,  3,  4,  5,  6,  7,  8,  9, 10, 11, 12]),\n",
       " <a list of 12 Patch objects>)"
      ]
     },
     "execution_count": 5,
     "metadata": {},
     "output_type": "execute_result"
    },
    {
     "data": {
      "image/png": "[encoded data removed]",
      "text/plain": [
       "<matplotlib.figure.Figure at 0x6fbcc88>"
      ]
     },
     "metadata": {},
     "output_type": "display_data"
    }
   ],
   "source": [
    "plt.hist(average2906, bins=np.arange(0, max(average2906)+3, 1))"
   ]
  }
 ],
 "metadata": {
  "kernelspec": {
   "display_name": "Python 2",
   "language": "python",
   "name": "python2"
  },
  "language_info": {
   "codemirror_mode": {
    "name": "ipython",
    "version": 2
   },
   "file_extension": ".py",
   "mimetype": "text/x-python",
   "name": "python",
   "nbconvert_exporter": "python",
   "pygments_lexer": "ipython2",
   "version": "2.7.13"
  }
 },
 "nbformat": 4,
 "nbformat_minor": 0
}
